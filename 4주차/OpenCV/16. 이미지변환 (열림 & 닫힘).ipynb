{
 "cells": [
  {
   "cell_type": "markdown",
   "id": "cdd7464d",
   "metadata": {},
   "source": [
    "# 16. 이미지변환 (열림 & 닫힘)"
   ]
  },
  {
   "cell_type": "markdown",
   "id": "3c35db80",
   "metadata": {},
   "source": [
    "##  열림 ( Opening): 침식 후 팽창, 깎아서 노이즈 제거 후 살 찌움"
   ]
  },
  {
   "cell_type": "code",
   "execution_count": 1,
   "id": "58724730",
   "metadata": {},
   "outputs": [],
   "source": [
    "import cv2\n",
    "import numpy as np\n",
    "\n",
    "kernel = np.ones((3,3), dtype= np.uint8)\n",
    "img = cv2.imread('erode.png', cv2.IMREAD_GRAYSCALE)\n",
    "\n",
    "erode = cv2.erode(img, kernel, iterations = 4)\n",
    "dilate = cv2.dilate(erode, kernel, iterations = 4)\n",
    "\n",
    "\n",
    "\n",
    "cv2.imshow('img', img)\n",
    "cv2.imshow('erode', erode)\n",
    "cv2.imshow('dilate', dilate)\n",
    "\n",
    "cv2.waitKey(0)\n",
    "cv2.destroyAllWindows()"
   ]
  },
  {
   "cell_type": "markdown",
   "id": "7572b46d",
   "metadata": {},
   "source": [
    "## 닫힘 (Closing): 팽창 후 침식, 구멍을 메운 후 다시 깎음\n",
    "\n",
    "> erode ( dilate (image) )"
   ]
  },
  {
   "cell_type": "code",
   "execution_count": 3,
   "id": "ac2682d0",
   "metadata": {},
   "outputs": [],
   "source": [
    "import cv2\n",
    "import numpy as np\n",
    "\n",
    "kernel = np.ones((3,3), dtype= np.uint8)\n",
    "img = cv2.imread('dilate.png', cv2.IMREAD_GRAYSCALE)\n",
    "\n",
    "dilate = cv2.dilate(img, kernel, iterations = 3)\n",
    "erode = cv2.erode(dilate, kernel, iterations = 3)\n",
    "\n",
    "\n",
    "\n",
    "cv2.imshow('img', img)\n",
    "cv2.imshow('dilate', dilate)\n",
    "cv2.imshow('erode', erode)\n",
    "\n",
    "cv2.waitKey(0)\n",
    "cv2.destroyAllWindows()"
   ]
  }
 ],
 "metadata": {
  "kernelspec": {
   "display_name": "ML",
   "language": "python",
   "name": "ml"
  },
  "language_info": {
   "codemirror_mode": {
    "name": "ipython",
    "version": 3
   },
   "file_extension": ".py",
   "mimetype": "text/x-python",
   "name": "python",
   "nbconvert_exporter": "python",
   "pygments_lexer": "ipython3",
   "version": "3.7.11"
  }
 },
 "nbformat": 4,
 "nbformat_minor": 5
}
