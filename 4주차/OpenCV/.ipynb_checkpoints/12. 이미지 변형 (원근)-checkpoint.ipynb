{
 "cells": [
  {
   "cell_type": "markdown",
   "id": "857fd1fe",
   "metadata": {},
   "source": [
    "# 12. 이미지 변형 (원근)"
   ]
  },
  {
   "cell_type": "markdown",
   "id": "8c5243ea",
   "metadata": {},
   "source": [
    "## 사다리꼴 이미지 펼치기"
   ]
  },
  {
   "cell_type": "code",
   "execution_count": 6,
   "id": "31dcb0c6",
   "metadata": {},
   "outputs": [],
   "source": [
    "import cv2\n",
    "import numpy as np\n",
    "\n",
    "img = cv2.imread('newspaper.jpg')\n",
    "\n",
    "width, height = 640, 240\n",
    "\n",
    "src = np.array([[511, 352],[1008, 345],[1122, 584],[455, 594]], dtype = np.float32) # input 4개 지점\n",
    "dst = np.array([[0, 0], [width, 0], [width, height], [0, height]], dtype = np.float32) # output 4개 지점\n",
    "# 좌상, 우상, 우하, 좌하 [시계 방향으로 4지점정의]\n",
    "\n",
    "\n",
    "matrix = cv2.getPerspectiveTransform(src, dst) # 변환행렬 matrix 얻어옴\n",
    "result = cv2.warpPerspective(img, matrix, (width, height)) # matrix 대로(변환행렬을 적용) 변환을 함\n",
    "\n",
    "\n",
    "cv2.imshow('img', img)\n",
    "cv2.imshow('result', result)\n",
    "cv2.waitKey(0)\n",
    "cv2.destroyAllWindows()"
   ]
  },
  {
   "cell_type": "markdown",
   "id": "30270dbb",
   "metadata": {},
   "source": [
    "회전된 이미지 올바로 세우기"
   ]
  },
  {
   "cell_type": "code",
   "execution_count": 1,
   "id": "5a4ed5e1",
   "metadata": {},
   "outputs": [],
   "source": [
    "import cv2\n",
    "import numpy as np\n",
    "\n",
    "img = cv2.imread('poker.jpg')\n",
    "\n",
    "width, height = 530, 710\n",
    "\n",
    "src = np.array([[703, 140],[1133, 414],[726, 1007],[276, 700]], dtype = np.float32) # input 4개 지점\n",
    "dst = np.array([[0, 0], [width, 0], [width, height], [0, height]], dtype = np.float32) # output 4개 지점\n",
    "# 좌상, 우상, 우하, 좌하 [시계 방향으로 4지점정의]\n",
    "\n",
    "\n",
    "matrix = cv2.getPerspectiveTransform(src, dst) # 변환행렬 matrix 얻어옴\n",
    "result = cv2.warpPerspective(img, matrix, (width, height)) # matrix 대로(변환행렬을 적용) 변환을 함\n",
    "\n",
    "\n",
    "cv2.imshow('img', img)\n",
    "cv2.imshow('result', result)\n",
    "cv2.waitKey(0)\n",
    "cv2.destroyAllWindows()"
   ]
  },
  {
   "cell_type": "markdown",
   "id": "5654cb3b",
   "metadata": {},
   "source": [
    "## 미니 프로젝트: 반자동 문서 스캐너"
   ]
  },
  {
   "cell_type": "markdown",
   "id": "b6e6c47c",
   "metadata": {},
   "source": [
    "### 마우스 이벤트 등록"
   ]
  },
  {
   "cell_type": "code",
   "execution_count": 5,
   "id": "6e256084",
   "metadata": {},
   "outputs": [
    {
     "name": "stdout",
     "output_type": "stream",
     "text": [
      "왼족 버튼 Down\n",
      "177 153\n",
      "왼족 버튼 Up\n",
      "218 223\n",
      "왼족 버튼 Down\n",
      "208 350\n",
      "왼족 버튼 Up\n",
      "208 350\n",
      "왼족 버튼 Double Click\n",
      "왼족 버튼 Up\n",
      "208 350\n",
      "왼족 버튼 Down\n",
      "520 438\n",
      "왼족 버튼 Up\n",
      "520 438\n",
      "왼족 버튼 Double Click\n",
      "왼족 버튼 Up\n",
      "520 438\n",
      "오른족 버튼 Down\n",
      "219 261\n",
      "오른족 버튼 Down\n",
      "195 398\n",
      "오른족 버튼 Down\n",
      "384 527\n",
      "왼족 버튼 Down\n",
      "584 255\n",
      "왼족 버튼 Up\n",
      "584 254\n",
      "오른족 버튼 Down\n",
      "299 156\n",
      "왼족 버튼 Down\n",
      "177 150\n",
      "왼족 버튼 Up\n",
      "177 150\n",
      "오른족 버튼 Down\n",
      "176 150\n",
      "왼족 버튼 Down\n",
      "268 286\n",
      "왼족 버튼 Up\n",
      "268 289\n",
      "왼족 버튼 Down\n",
      "229 269\n",
      "왼족 버튼 Up\n",
      "229 269\n"
     ]
    }
   ],
   "source": [
    "import cv2\n",
    "\n",
    "def mouse_handler(event, x, y, flags,params):\n",
    "    if event == cv2.EVENT_LBUTTONDOWN: # 마우스 왼쪽 버튼 누름\n",
    "        print('왼족 버튼 Down')\n",
    "        print(x, y)\n",
    "    elif event == cv2.EVENT_LBUTTONUP:\n",
    "        print('왼족 버튼 Up')\n",
    "        print(x, y)\n",
    "    elif event == cv2.EVENT_LBUTTONDBLCLK: # 마우스 왼쪽버튼 더블 클릭\n",
    "        print('왼족 버튼 Double Click')\n",
    "#     elif event == cv2.EVENT_MOUSEMOVE: # 마우스 이동\n",
    "#         print('마우스 이동')\n",
    "    elif event == cv2.EVENT_RBUTTONDOWN: # 마우스 왼쪽 버튼 누름\n",
    "        print('오른족 버튼 Down')\n",
    "        print(x, y)\n",
    "\n",
    "img = cv2.imread('poker.jpg')\n",
    "\n",
    "cv2.namedWindow('img') # img 란 이름의 윈도우를 먼저 만들어 두는 것, 여기에 마우스 이벤트를 처리하기 위한 핸들러를 적용\n",
    "cv2.setMouseCallback('img', mouse_handler )\n",
    "\n",
    "\n",
    "cv2.imshow('img', img)\n",
    "cv2.waitKey(0)\n",
    "cv2.destroyAllWindows()"
   ]
  },
  {
   "cell_type": "markdown",
   "id": "ffd8a0d8",
   "metadata": {},
   "source": [
    "### 프로젝트"
   ]
  },
  {
   "cell_type": "code",
   "execution_count": 17,
   "id": "729c1e65",
   "metadata": {},
   "outputs": [],
   "source": [
    "import cv2\n",
    "import numpy as np\n",
    "\n",
    "point_list = []\n",
    "src_img = cv2.imread('poker.jpg')\n",
    "COLOR = (255, 0, 255)\n",
    "drawing = False # 선을 그릴지 여부\n",
    "THICKNESS = 3\n",
    "\n",
    "def mouse_handler(event, x, y, flags,params):\n",
    "    global drawing\n",
    "    dst_img = src_img.copy()\n",
    "    \n",
    "    if event == cv2.EVENT_LBUTTONDOWN: # 마우스 왼쪽 버튼 누름\n",
    "        drawing = True # 선을 그리기 시작\n",
    "        point_list.append((x, y))\n",
    "    \n",
    "    if drawing:\n",
    "        prev_point = None # 직선의 시작점\n",
    "        for point in point_list:\n",
    "            cv2.circle(dst_img, point, 5, COLOR, cv2.FILLED)\n",
    "            if prev_point:\n",
    "                cv2.line(dst_img, prev_point, point, COLOR, THICKNESS, cv2.LINE_AA)\n",
    "            prev_point = point\n",
    "        next_point = (x, y)\n",
    "        if len(point_list) == 4:\n",
    "            show_result() ## 결과 출력\n",
    "            next_point = point_list[0] # 첫번째 클릭한 지점\n",
    "            \n",
    "        cv2.line(dst_img, prev_point, next_point, COLOR, THICKNESS, cv2.LINE_AA)\n",
    "        \n",
    "        \n",
    "\n",
    "    \n",
    "    cv2.imshow('img', dst_img)\n",
    "    \n",
    "def show_result():\n",
    "    width, height = 530, 710\n",
    "    src = np.float32(point_list)\n",
    "    dst = np.array([[0, 0], [width, 0], [width, height], [0, height]], dtype = np.float32) # output 4개 지점\n",
    "    # 좌상, 우상, 우하, 좌하 [시계 방향으로 4지점정의]\n",
    "\n",
    "\n",
    "    matrix = cv2.getPerspectiveTransform(src, dst) # 변환행렬 matrix 얻어옴\n",
    "    result = cv2.warpPerspective(src_img, matrix, (width, height)) # matrix 대로(변환행렬을 적용) 변환을 함\n",
    "    cv2.imshow('result', result)\n",
    "\n",
    "cv2.namedWindow('img') # img 란 이름의 윈도우를 먼저 만들어 두는 것, 여기에 마우스 이벤트를 처리하기 위한 핸들러를 적용\n",
    "cv2.setMouseCallback('img', mouse_handler )\n",
    "cv2.imshow('img', src_img)\n",
    "cv2.waitKey(0)\n",
    "cv2.destroyAllWindows()"
   ]
  }
 ],
 "metadata": {
  "kernelspec": {
   "display_name": "ML",
   "language": "python",
   "name": "ml"
  },
  "language_info": {
   "codemirror_mode": {
    "name": "ipython",
    "version": 3
   },
   "file_extension": ".py",
   "mimetype": "text/x-python",
   "name": "python",
   "nbconvert_exporter": "python",
   "pygments_lexer": "ipython3",
   "version": "3.7.11"
  }
 },
 "nbformat": 4,
 "nbformat_minor": 5
}
