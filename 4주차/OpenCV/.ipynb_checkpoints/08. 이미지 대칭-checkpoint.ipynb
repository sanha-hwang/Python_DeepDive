{
 "cells": [
  {
   "cell_type": "markdown",
   "id": "24d24bca",
   "metadata": {},
   "source": [
    "# 8. 이미지 대칭"
   ]
  },
  {
   "cell_type": "markdown",
   "id": "6261f218",
   "metadata": {},
   "source": [
    "## 좌우대칭"
   ]
  },
  {
   "cell_type": "code",
   "execution_count": 1,
   "id": "950da3a8",
   "metadata": {},
   "outputs": [],
   "source": [
    "import cv2\n",
    "\n",
    "img = cv2.imread('img.jpg')\n",
    "\n",
    "flip_horizontal = cv2.flip(img, 1) # flipCode > 0 : 죄우대칭 - Horizontal\n",
    "\n",
    "cv2.imshow('img', img)\n",
    "cv2.imshow('flip_horizontal', flip_horizontal)\n",
    "\n",
    "cv2.waitKey(0)\n",
    "cv2.destroyAllWindows()"
   ]
  },
  {
   "cell_type": "markdown",
   "id": "0a6cc298",
   "metadata": {},
   "source": [
    "## 상하대칭"
   ]
  },
  {
   "cell_type": "code",
   "execution_count": 2,
   "id": "9fda9612",
   "metadata": {},
   "outputs": [],
   "source": [
    "import cv2\n",
    "\n",
    "img = cv2.imread('img.jpg')\n",
    "\n",
    "flip_vertical = cv2.flip(img, 0) # flipCode == 0 : 상하대칭 - vertical\n",
    "\n",
    "cv2.imshow('img', img)\n",
    "cv2.imshow('flip_vertical', flip_vertical)\n",
    "\n",
    "cv2.waitKey(0)\n",
    "cv2.destroyAllWindows()"
   ]
  },
  {
   "cell_type": "markdown",
   "id": "904001bf",
   "metadata": {},
   "source": [
    "## 상하좌우 대칭"
   ]
  },
  {
   "cell_type": "code",
   "execution_count": 3,
   "id": "8be0cf91",
   "metadata": {},
   "outputs": [],
   "source": [
    "import cv2\n",
    "\n",
    "img = cv2.imread('img.jpg')\n",
    "\n",
    "flip_both = cv2.flip(img, -1) # flipCode < 0 : 상하좌우대칭 - \n",
    "\n",
    "cv2.imshow('img', img)\n",
    "cv2.imshow('flip_both', flip_both)\n",
    "\n",
    "cv2.waitKey(0)\n",
    "cv2.destroyAllWindows()"
   ]
  }
 ],
 "metadata": {
  "kernelspec": {
   "display_name": "ML",
   "language": "python",
   "name": "ml"
  },
  "language_info": {
   "codemirror_mode": {
    "name": "ipython",
    "version": 3
   },
   "file_extension": ".py",
   "mimetype": "text/x-python",
   "name": "python",
   "nbconvert_exporter": "python",
   "pygments_lexer": "ipython3",
   "version": "3.7.11"
  }
 },
 "nbformat": 4,
 "nbformat_minor": 5
}
