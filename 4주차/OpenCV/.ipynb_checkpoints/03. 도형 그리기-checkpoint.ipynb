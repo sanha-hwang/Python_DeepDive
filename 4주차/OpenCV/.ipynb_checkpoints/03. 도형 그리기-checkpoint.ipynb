{
 "cells": [
  {
   "cell_type": "markdown",
   "id": "93a4efe2",
   "metadata": {},
   "source": [
    "# 3. 도형그리기"
   ]
  },
  {
   "cell_type": "markdown",
   "id": "0af146d8",
   "metadata": {},
   "source": [
    "## 빈 스케치북 만들기"
   ]
  },
  {
   "cell_type": "code",
   "execution_count": 8,
   "id": "fe4f4a52",
   "metadata": {},
   "outputs": [],
   "source": [
    "import cv2\n",
    "import numpy as np\n",
    "\n",
    "# 세로 480 X 가로 640, 3 channel (RGB) 에 해당하는 스케치북 만들기\n",
    "img =np.zeros((480, 640, 3), dtype =np.uint8)\n",
    "# img[:] = (255, 255, 255) # 전체 공간을 흰 색으로 채우기\n",
    "# print(img)\n",
    "\n",
    "cv2.imshow('img', img)\n",
    "cv2.waitKey(0)\n",
    "cv2.destroyAllWindows()"
   ]
  },
  {
   "cell_type": "markdown",
   "id": "ea930f10",
   "metadata": {},
   "source": [
    "## 일부 영역 색칠"
   ]
  },
  {
   "cell_type": "code",
   "execution_count": 10,
   "id": "ba7f824b",
   "metadata": {},
   "outputs": [],
   "source": [
    "import cv2\n",
    "import numpy as np\n",
    "\n",
    "img =np.zeros((480, 640, 3), dtype =np.uint8)\n",
    "img[100:200, 200:300] = (255, 255, 255)\n",
    "# [세로영역, 가로영역]\n",
    "cv2.imshow('img', img)\n",
    "cv2.waitKey(0)\n",
    "cv2.destroyAllWindows()"
   ]
  },
  {
   "cell_type": "markdown",
   "id": "f83b176b",
   "metadata": {},
   "source": [
    "## 직선\n",
    "\n",
    "직선의 종류 (line type)\n",
    "\n",
    "1. cv2.LINE_4 : 상하좌우 4방향으로 연결된 선\n",
    "2. cv2.LINE_8 : 대각선을 포함한 8 방향으로 연결된 선 (기본값)\n",
    "3. cv2.LINE_AA : 부드러운 선 (anti-aliasing)"
   ]
  },
  {
   "cell_type": "code",
   "execution_count": 14,
   "id": "5a7ee06f",
   "metadata": {},
   "outputs": [],
   "source": [
    "import cv2\n",
    "import numpy as np\n",
    "\n",
    "img =np.zeros((480, 640, 3), dtype =np.uint8)\n",
    "\n",
    "COLOR = (0,255, 255) # BGR 순서: yellow\n",
    "THICKNESS = 3 # 두께\n",
    "\n",
    "cv2.line(img, (50, 100), (400,50), COLOR, THICKNESS, cv2.LINE_8)\n",
    "# 그릴 위치, 시작 점, 끝점, 색깔, 두께, 선 종류\n",
    "cv2.line(img, (50, 200), (400,150), COLOR, THICKNESS, cv2.LINE_4)\n",
    "cv2.line(img, (50, 300), (400,250), COLOR, THICKNESS, cv2.LINE_AA)\n",
    "\n",
    "\n",
    "\n",
    "cv2.imshow('img', img)\n",
    "cv2.waitKey(0)\n",
    "cv2.destroyAllWindows()"
   ]
  },
  {
   "cell_type": "markdown",
   "id": "b3d8b4ec",
   "metadata": {},
   "source": [
    "## 원"
   ]
  },
  {
   "cell_type": "code",
   "execution_count": 19,
   "id": "af9248d0",
   "metadata": {},
   "outputs": [],
   "source": [
    "import cv2\n",
    "import numpy as np\n",
    "\n",
    "img =np.zeros((480, 640, 3), dtype =np.uint8)\n",
    "\n",
    "COLOR = (255,255, 0) # BGR 순서: 옥색\n",
    "RADIUS = 50 # 반지름\n",
    "THICKNESS = 10 # 두께\n",
    "\n",
    "cv2.circle(img, (200, 100), RADIUS, COLOR, THICKNESS, cv2.LINE_AA) # 속이 빈 원\n",
    "# 그릴 위치, 원의 중심점, 반지름, 색깔, 두께, 선 종류\n",
    "\n",
    "cv2.circle(img, (400, 100), RADIUS, COLOR, -1, cv2.LINE_AA) # 속이 꽉 찬 원\n",
    "# 그릴 위치, 원의 중심점, 반지름, 색깔, -1 or cv2.FILLED, 선 종류\n",
    "\n",
    "\n",
    "\n",
    "cv2.imshow('img', img)\n",
    "cv2.waitKey(0)\n",
    "cv2.destroyAllWindows()"
   ]
  },
  {
   "cell_type": "markdown",
   "id": "e10eaaec",
   "metadata": {},
   "source": [
    "## 사각형"
   ]
  },
  {
   "cell_type": "code",
   "execution_count": 22,
   "id": "75314a50",
   "metadata": {},
   "outputs": [],
   "source": [
    "import cv2\n",
    "import numpy as np\n",
    "\n",
    "img =np.zeros((480, 640, 3), dtype =np.uint8)\n",
    "\n",
    "COLOR = (0,255, 0) # BGR 순서: 초록색\n",
    "THICKNESS = 3 # 두께\n",
    "\n",
    "cv2.rectangle(img, (100, 100), (200, 200), COLOR, THICKNESS) # 속이 빈 사각형\n",
    "# 그릴위치, 왼쪽 위 좌표, 오른쪽 위 좌표, 색깔, 두께\n",
    "cv2.rectangle(img, (300, 100), (400, 300), COLOR, -1) # 속이 꽉 찬 사각형\n",
    "\n",
    "\n",
    "\n",
    "cv2.imshow('img', img)\n",
    "cv2.waitKey(0)\n",
    "cv2.destroyAllWindows()"
   ]
  },
  {
   "cell_type": "markdown",
   "id": "9306c8a5",
   "metadata": {},
   "source": [
    "## 다각형"
   ]
  },
  {
   "cell_type": "code",
   "execution_count": 29,
   "id": "b0d44b40",
   "metadata": {},
   "outputs": [],
   "source": [
    "import cv2\n",
    "import numpy as np\n",
    "\n",
    "img =np.zeros((480, 640, 3), dtype =np.uint8)\n",
    "\n",
    "COLOR = (0,0, 255) # BGR 순서: 빨간색\n",
    "THICKNESS = 3 # 두께\n",
    "\n",
    "pts1  = np.array([[100, 100], [200, 100], [100, 200]])\n",
    "pts2  = np.array([[200, 100], [300, 100], [300, 200]])\n",
    "\n",
    "cv2.polylines(img, [pts1, pts2], True, COLOR, THICKNESS, cv2.LINE_AA) # 속이 빈 다각형 False면 시작점과 끝점이 이어지지 않는 열린 상태\n",
    "# 그릴 위치, 그릴 좌표들( 포인트 리스트), 닫힘 여부, 색갈, 두께, 선 종류\n",
    "\n",
    "pts3 = np.array([[[100, 300], [200, 300], [100, 400]], [[200, 300], [300, 300], [300, 400]]])\n",
    "cv2.fillPoly(img, pts3, COLOR, cv2.LINE_AA )\n",
    "# 그릴 위치, 그릴 좌표들 , 색깔 , 선종류\n",
    "\n",
    "cv2.imshow('img', img)\n",
    "cv2.waitKey(0)\n",
    "cv2.destroyAllWindows()"
   ]
  }
 ],
 "metadata": {
  "kernelspec": {
   "display_name": "ML",
   "language": "python",
   "name": "ml"
  },
  "language_info": {
   "codemirror_mode": {
    "name": "ipython",
    "version": 3
   },
   "file_extension": ".py",
   "mimetype": "text/x-python",
   "name": "python",
   "nbconvert_exporter": "python",
   "pygments_lexer": "ipython3",
   "version": "3.7.11"
  }
 },
 "nbformat": 4,
 "nbformat_minor": 5
}
